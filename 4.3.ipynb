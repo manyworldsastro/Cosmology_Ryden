{
 "cells": [
  {
   "cell_type": "code",
   "execution_count": 11,
   "metadata": {},
   "outputs": [
    {
     "name": "stdout",
     "output_type": "stream",
     "text": [
      "Radius of curvature = 1.9922240785365115e+26 meters\n"
     ]
    }
   ],
   "source": [
    "# 4.3 pg. 67\n",
    "\n",
    "import math\n",
    "\n",
    "rho = 2.7*10**-27 # kg/m**3\n",
    "c = 299792458 # m/s\n",
    "G = 6.67408*10**-11 # m**3 kg**-1 s**-2\n",
    "\n",
    "# from (4.73) pg. 65:\n",
    "R_0 = c/(2*(math.pi*G*rho)**0.5) # m\n",
    "print(f\"Radius of curvature = {R_0} meters\")"
   ]
  },
  {
   "cell_type": "code",
   "execution_count": 15,
   "metadata": {},
   "outputs": [
    {
     "name": "stdout",
     "output_type": "stream",
     "text": [
      "Photon circumnavigate time = 1.32e+11 years\n"
     ]
    }
   ],
   "source": [
    "C = 2*math.pi*R_0 # m\n",
    "t = (C/c)/(60*60*24*365.25) # years\n",
    "print(f\"Photon circumnavigate time = {t:.2e} years\")"
   ]
  }
 ],
 "metadata": {
  "kernelspec": {
   "display_name": ".venv",
   "language": "python",
   "name": "python3"
  },
  "language_info": {
   "codemirror_mode": {
    "name": "ipython",
    "version": 3
   },
   "file_extension": ".py",
   "mimetype": "text/x-python",
   "name": "python",
   "nbconvert_exporter": "python",
   "pygments_lexer": "ipython3",
   "version": "3.10.12"
  }
 },
 "nbformat": 4,
 "nbformat_minor": 2
}
